{
 "cells": [
  {
   "cell_type": "code",
   "execution_count": 4,
   "id": "50802e47",
   "metadata": {},
   "outputs": [],
   "source": [
    "from urllib.request import urlopen as urq\n",
    "from bs4 import BeautifulSoup"
   ]
  },
  {
   "cell_type": "code",
   "execution_count": null,
   "id": "57b10824",
   "metadata": {},
   "outputs": [],
   "source": []
  },
  {
   "cell_type": "code",
   "execution_count": 5,
   "id": "211f801e",
   "metadata": {},
   "outputs": [],
   "source": [
    "quotes_page = \"https://bluelimelearning.github.io/my-fav-quotes/\""
   ]
  },
  {
   "cell_type": "code",
   "execution_count": 6,
   "id": "af973978",
   "metadata": {},
   "outputs": [],
   "source": [
    "## Opening the link, grabing the content and closing it\n",
    "page_content = urq(quotes_page)\n",
    "page_html = page_content.read()\n",
    "page_content.close()"
   ]
  },
  {
   "cell_type": "code",
   "execution_count": 7,
   "id": "c01a7597",
   "metadata": {},
   "outputs": [],
   "source": [
    "## Using beautifulSoup to parse the html content ==> building a data structure\n",
    "soup = BeautifulSoup(page_html, \"html.parser\")"
   ]
  },
  {
   "cell_type": "code",
   "execution_count": 10,
   "id": "b608fcde",
   "metadata": {},
   "outputs": [],
   "source": [
    "## Grabing the elements from a class\n",
    "quotes = soup.findAll(\"div\", {\"class\": \"quotes\"})"
   ]
  },
  {
   "cell_type": "code",
   "execution_count": 11,
   "id": "8d3ba2d9",
   "metadata": {},
   "outputs": [
    {
     "data": {
      "text/plain": [
       "[<div class=\"quotes\">\n",
       " <p class=\"aquote\">\n",
       "                 I hear and i forget.<br/> I see and i remember.<br/> I do and i understand.\n",
       "             </p>\n",
       " <p class=\"author\">\n",
       "                 Confucious\n",
       "             </p>\n",
       " </div>,\n",
       " <div class=\"quotes\">\n",
       " <p class=\"aquote\">\n",
       "                     Feeling gratitude and not<br/> expressing it is like wrapping<br/> a present and not giving it.\n",
       "                 </p>\n",
       " <p class=\"author\">\n",
       "                     William Arthur Ward\n",
       "                 </p>\n",
       " </div>,\n",
       " <div class=\"quotes\">\n",
       " <p class=\"aquote\">\n",
       "                     Our greatest glory is not in never falling<br/> but in rising every time we fall.\n",
       "                 </p>\n",
       " <p class=\"author\">\n",
       "                     Confucious\n",
       "                 </p>\n",
       " </div>,\n",
       " <div class=\"quotes\">\n",
       " <p class=\"aquote\">\n",
       "                     The secret of getting ahead<br/>is getting started.\n",
       "                 </p>\n",
       " <p class=\"author\">\n",
       "                     Mark Twain\n",
       "                 </p>\n",
       " </div>,\n",
       " <div class=\"quotes\">\n",
       " <p class=\"aquote\">\n",
       "                     Believe you can  <br/> and you're halfway there.\n",
       "                 </p>\n",
       " <p class=\"author\">\n",
       "                     Theodore Roosevelt\n",
       "                 </p>\n",
       " </div>,\n",
       " <div class=\"quotes\">\n",
       " <p class=\"aquote\">\n",
       "                     Resentment is like drinking Poison and  <br/>waiting for your enemies to die.\n",
       "                 </p>\n",
       " <p class=\"author\">\n",
       "                     Nelson Mandela\n",
       "                 </p>\n",
       " </div>,\n",
       " <div class=\"quotes\">\n",
       " <p class=\"aquote\">\n",
       "                     Silence is a true friend  <br/> who never betrays.\n",
       "                 </p>\n",
       " <p class=\"author\">\n",
       "                     Confucius\n",
       "                 </p>\n",
       " </div>,\n",
       " <div class=\"quotes\">\n",
       " <p class=\"aquote\">\n",
       "                     The best way to find yourself is to  <br/> lose yourself in the service of others.\n",
       "                 </p>\n",
       " <p class=\"author\">\n",
       "                     Mahatma Gandhi\n",
       "                 </p>\n",
       " </div>,\n",
       " <div class=\"quotes\">\n",
       " <p class=\"aquote\">\n",
       "                     Never succumb to the <br/>temptation of bitterness.\n",
       "                 </p>\n",
       " <p class=\"author\">\n",
       "                     Martin Luther King Jnr\n",
       "                 </p>\n",
       " </div>,\n",
       " <div class=\"quotes\">\n",
       " <p class=\"aquote\">\n",
       "                     The journey of a thousand miles  <br/>begins with one step.\n",
       "                 </p>\n",
       " <p class=\"author\">\n",
       "                     Lao Tzu\n",
       "                 </p>\n",
       " </div>,\n",
       " <div class=\"quotes\">\n",
       " <p class=\"aquote\">\n",
       "                     It is health that is real wealth and  <br/>not pieces of gold and silver.\n",
       "                 </p>\n",
       " <p class=\"author\">\n",
       "                     Mahatma Gandhi\n",
       "                 </p>\n",
       " </div>,\n",
       " <div class=\"quotes\">\n",
       " <p class=\"aquote\">\n",
       "                     Yesterday is not ours to recover  <br/>but tomorrow is ours to win or lose.\n",
       "                 </p>\n",
       " <p class=\"author\">\n",
       "                     Lyndon B Johnson\n",
       "                 </p>\n",
       " </div>,\n",
       " <div class=\"quotes\">\n",
       " <p class=\"aquote\">\n",
       "                     It's not what happens to you  <br/>but how you react to it that matters .\n",
       "                 </p>\n",
       " <p class=\"author\">\n",
       "                     Epictetus\n",
       "                 </p>\n",
       " </div>,\n",
       " <div class=\"quotes\">\n",
       " <p class=\"aquote\">\n",
       "                     Beware of what you become  <br/>in pursuit of what you want.\n",
       "                 </p>\n",
       " <p class=\"author\">\n",
       "                     Jim Rohn\n",
       "                 </p>\n",
       " </div>,\n",
       " <div class=\"quotes\">\n",
       " <p class=\"aquote\">\n",
       "                     The best revenge  <br/>is massive success.\n",
       "                 </p>\n",
       " <p class=\"author\">\n",
       "                     Frank Sinatra\n",
       "                 </p>\n",
       " </div>,\n",
       " <div class=\"quotes\">\n",
       " <p class=\"aquote\">\n",
       "                     Do not take life too seriously <br/>You will never get out of it alive.\n",
       "                 </p>\n",
       " <p class=\"author\">\n",
       "                     Elbert Hubbard\n",
       "                 </p>\n",
       " </div>,\n",
       " <div class=\"quotes\">\n",
       " <p class=\"aquote\">\n",
       "                     Don't judge each day by the harvest you reap  <br/>but by the seeds that yiu plant.\n",
       "                 </p>\n",
       " <p class=\"author\">\n",
       "                     Robert Loius Stevenson\n",
       "                 </p>\n",
       " </div>,\n",
       " <div class=\"quotes\">\n",
       " <p class=\"aquote\">\n",
       "                     Your attitude and not your aptitude  <br/>will determine your altitude\n",
       "                 </p>\n",
       " <p class=\"author\">\n",
       "                     Zig Ziglar\n",
       "                 </p>\n",
       " </div>,\n",
       " <div class=\"quotes\">\n",
       " <p class=\"aquote\">\n",
       "                     Imagination is more important  <br/>than knowledge.\n",
       "                 </p>\n",
       " <p class=\"author\">\n",
       "                     Albert Einstein\n",
       "                 </p>\n",
       " </div>]"
      ]
     },
     "execution_count": 11,
     "metadata": {},
     "output_type": "execute_result"
    }
   ],
   "source": [
    "quotes"
   ]
  },
  {
   "cell_type": "code",
   "execution_count": null,
   "id": "5f7746b5",
   "metadata": {},
   "outputs": [],
   "source": []
  },
  {
   "cell_type": "code",
   "execution_count": 21,
   "id": "05437801",
   "metadata": {},
   "outputs": [],
   "source": [
    "wisdom_proverbs = []\n",
    "authors = []\n",
    "for quote in quotes:\n",
    "    fav_quote = quote.findAll(\"p\", {\"class\":\"aquote\"})\n",
    "    aquote = fav_quote[0].text.strip()\n",
    "    wisdom_proverbs.append(aquote)\n",
    "    \n",
    "    fav_author = quote.findAll(\"p\", {\"class\":\"author\"})\n",
    "    author = fav_author[0].text.strip()\n",
    "    authors.append(author)"
   ]
  },
  {
   "cell_type": "code",
   "execution_count": 22,
   "id": "8f8389bc",
   "metadata": {},
   "outputs": [
    {
     "data": {
      "text/plain": [
       "['I hear and i forget. I see and i remember. I do and i understand.',\n",
       " 'Feeling gratitude and not expressing it is like wrapping a present and not giving it.',\n",
       " 'Our greatest glory is not in never falling but in rising every time we fall.',\n",
       " 'The secret of getting aheadis getting started.',\n",
       " \"Believe you can   and you're halfway there.\",\n",
       " 'Resentment is like drinking Poison and  waiting for your enemies to die.',\n",
       " 'Silence is a true friend   who never betrays.',\n",
       " 'The best way to find yourself is to   lose yourself in the service of others.',\n",
       " 'Never succumb to the temptation of bitterness.',\n",
       " 'The journey of a thousand miles  begins with one step.',\n",
       " 'It is health that is real wealth and  not pieces of gold and silver.',\n",
       " 'Yesterday is not ours to recover  but tomorrow is ours to win or lose.',\n",
       " \"It's not what happens to you  but how you react to it that matters .\",\n",
       " 'Beware of what you become  in pursuit of what you want.',\n",
       " 'The best revenge  is massive success.',\n",
       " 'Do not take life too seriously You will never get out of it alive.',\n",
       " \"Don't judge each day by the harvest you reap  but by the seeds that yiu plant.\",\n",
       " 'Your attitude and not your aptitude  will determine your altitude',\n",
       " 'Imagination is more important  than knowledge.']"
      ]
     },
     "execution_count": 22,
     "metadata": {},
     "output_type": "execute_result"
    }
   ],
   "source": [
    "wisdom_proverbs"
   ]
  },
  {
   "cell_type": "code",
   "execution_count": 14,
   "id": "0835deaf",
   "metadata": {},
   "outputs": [
    {
     "data": {
      "text/plain": [
       "['Confucious',\n",
       " 'William Arthur Ward',\n",
       " 'Confucious',\n",
       " 'Mark Twain',\n",
       " 'Theodore Roosevelt',\n",
       " 'Nelson Mandela',\n",
       " 'Confucius',\n",
       " 'Mahatma Gandhi',\n",
       " 'Martin Luther King Jnr',\n",
       " 'Lao Tzu',\n",
       " 'Mahatma Gandhi',\n",
       " 'Lyndon B Johnson',\n",
       " 'Epictetus',\n",
       " 'Jim Rohn',\n",
       " 'Frank Sinatra',\n",
       " 'Elbert Hubbard',\n",
       " 'Robert Loius Stevenson',\n",
       " 'Zig Ziglar',\n",
       " 'Albert Einstein']"
      ]
     },
     "execution_count": 14,
     "metadata": {},
     "output_type": "execute_result"
    }
   ],
   "source": [
    "authors "
   ]
  },
  {
   "cell_type": "code",
   "execution_count": 39,
   "id": "13ae7620",
   "metadata": {},
   "outputs": [
    {
     "data": {
      "text/plain": [
       "'Words of Wisdom'"
      ]
     },
     "execution_count": 39,
     "metadata": {},
     "output_type": "execute_result"
    }
   ],
   "source": [
    "soup.find(\"h1\").text"
   ]
  },
  {
   "cell_type": "code",
   "execution_count": 53,
   "id": "aefb8134",
   "metadata": {},
   "outputs": [
    {
     "data": {
      "text/plain": [
       "'The secret of getting aheadis getting started.'"
      ]
     },
     "execution_count": 53,
     "metadata": {},
     "output_type": "execute_result"
    }
   ],
   "source": [
    "quotes[3].find_all(\"p\", \"aquote\")[0].text.strip()"
   ]
  },
  {
   "cell_type": "code",
   "execution_count": 54,
   "id": "3111b0aa",
   "metadata": {},
   "outputs": [],
   "source": [
    "import pandas as pd"
   ]
  },
  {
   "cell_type": "code",
   "execution_count": 58,
   "id": "5ab9763f",
   "metadata": {},
   "outputs": [],
   "source": [
    "emb = []\n",
    "for i in range(len(authors)):\n",
    "    emb.append([authors[i], wisdom_proverbs[i]])"
   ]
  },
  {
   "cell_type": "code",
   "execution_count": 59,
   "id": "0ad5d779",
   "metadata": {},
   "outputs": [
    {
     "data": {
      "text/plain": [
       "[['Confucious',\n",
       "  'I hear and i forget. I see and i remember. I do and i understand.'],\n",
       " ['William Arthur Ward',\n",
       "  'Feeling gratitude and not expressing it is like wrapping a present and not giving it.'],\n",
       " ['Confucious',\n",
       "  'Our greatest glory is not in never falling but in rising every time we fall.'],\n",
       " ['Mark Twain', 'The secret of getting aheadis getting started.'],\n",
       " ['Theodore Roosevelt', \"Believe you can   and you're halfway there.\"],\n",
       " ['Nelson Mandela',\n",
       "  'Resentment is like drinking Poison and  waiting for your enemies to die.'],\n",
       " ['Confucius', 'Silence is a true friend   who never betrays.'],\n",
       " ['Mahatma Gandhi',\n",
       "  'The best way to find yourself is to   lose yourself in the service of others.'],\n",
       " ['Martin Luther King Jnr', 'Never succumb to the temptation of bitterness.'],\n",
       " ['Lao Tzu', 'The journey of a thousand miles  begins with one step.'],\n",
       " ['Mahatma Gandhi',\n",
       "  'It is health that is real wealth and  not pieces of gold and silver.'],\n",
       " ['Lyndon B Johnson',\n",
       "  'Yesterday is not ours to recover  but tomorrow is ours to win or lose.'],\n",
       " ['Epictetus',\n",
       "  \"It's not what happens to you  but how you react to it that matters .\"],\n",
       " ['Jim Rohn', 'Beware of what you become  in pursuit of what you want.'],\n",
       " ['Frank Sinatra', 'The best revenge  is massive success.'],\n",
       " ['Elbert Hubbard',\n",
       "  'Do not take life too seriously You will never get out of it alive.'],\n",
       " ['Robert Loius Stevenson',\n",
       "  \"Don't judge each day by the harvest you reap  but by the seeds that yiu plant.\"],\n",
       " ['Zig Ziglar',\n",
       "  'Your attitude and not your aptitude  will determine your altitude'],\n",
       " ['Albert Einstein', 'Imagination is more important  than knowledge.']]"
      ]
     },
     "execution_count": 59,
     "metadata": {},
     "output_type": "execute_result"
    }
   ],
   "source": [
    "emb"
   ]
  },
  {
   "cell_type": "code",
   "execution_count": null,
   "id": "a7cd0653",
   "metadata": {},
   "outputs": [],
   "source": []
  },
  {
   "cell_type": "markdown",
   "id": "f6a66404",
   "metadata": {},
   "source": [
    "**Export to CSV file**"
   ]
  },
  {
   "cell_type": "code",
   "execution_count": 60,
   "id": "d2df1c8e",
   "metadata": {},
   "outputs": [],
   "source": [
    "df = pd.DataFrame(emb, columns=[\"Author\", \"Quote\"])"
   ]
  },
  {
   "cell_type": "code",
   "execution_count": 61,
   "id": "724b7d05",
   "metadata": {},
   "outputs": [
    {
     "data": {
      "text/html": [
       "<div>\n",
       "<style scoped>\n",
       "    .dataframe tbody tr th:only-of-type {\n",
       "        vertical-align: middle;\n",
       "    }\n",
       "\n",
       "    .dataframe tbody tr th {\n",
       "        vertical-align: top;\n",
       "    }\n",
       "\n",
       "    .dataframe thead th {\n",
       "        text-align: right;\n",
       "    }\n",
       "</style>\n",
       "<table border=\"1\" class=\"dataframe\">\n",
       "  <thead>\n",
       "    <tr style=\"text-align: right;\">\n",
       "      <th></th>\n",
       "      <th>Author</th>\n",
       "      <th>Quote</th>\n",
       "    </tr>\n",
       "  </thead>\n",
       "  <tbody>\n",
       "    <tr>\n",
       "      <th>0</th>\n",
       "      <td>Confucious</td>\n",
       "      <td>I hear and i forget. I see and i remember. I d...</td>\n",
       "    </tr>\n",
       "    <tr>\n",
       "      <th>1</th>\n",
       "      <td>William Arthur Ward</td>\n",
       "      <td>Feeling gratitude and not expressing it is lik...</td>\n",
       "    </tr>\n",
       "    <tr>\n",
       "      <th>2</th>\n",
       "      <td>Confucious</td>\n",
       "      <td>Our greatest glory is not in never falling but...</td>\n",
       "    </tr>\n",
       "    <tr>\n",
       "      <th>3</th>\n",
       "      <td>Mark Twain</td>\n",
       "      <td>The secret of getting aheadis getting started.</td>\n",
       "    </tr>\n",
       "    <tr>\n",
       "      <th>4</th>\n",
       "      <td>Theodore Roosevelt</td>\n",
       "      <td>Believe you can   and you're halfway there.</td>\n",
       "    </tr>\n",
       "    <tr>\n",
       "      <th>5</th>\n",
       "      <td>Nelson Mandela</td>\n",
       "      <td>Resentment is like drinking Poison and  waitin...</td>\n",
       "    </tr>\n",
       "    <tr>\n",
       "      <th>6</th>\n",
       "      <td>Confucius</td>\n",
       "      <td>Silence is a true friend   who never betrays.</td>\n",
       "    </tr>\n",
       "    <tr>\n",
       "      <th>7</th>\n",
       "      <td>Mahatma Gandhi</td>\n",
       "      <td>The best way to find yourself is to   lose you...</td>\n",
       "    </tr>\n",
       "    <tr>\n",
       "      <th>8</th>\n",
       "      <td>Martin Luther King Jnr</td>\n",
       "      <td>Never succumb to the temptation of bitterness.</td>\n",
       "    </tr>\n",
       "    <tr>\n",
       "      <th>9</th>\n",
       "      <td>Lao Tzu</td>\n",
       "      <td>The journey of a thousand miles  begins with o...</td>\n",
       "    </tr>\n",
       "    <tr>\n",
       "      <th>10</th>\n",
       "      <td>Mahatma Gandhi</td>\n",
       "      <td>It is health that is real wealth and  not piec...</td>\n",
       "    </tr>\n",
       "    <tr>\n",
       "      <th>11</th>\n",
       "      <td>Lyndon B Johnson</td>\n",
       "      <td>Yesterday is not ours to recover  but tomorrow...</td>\n",
       "    </tr>\n",
       "    <tr>\n",
       "      <th>12</th>\n",
       "      <td>Epictetus</td>\n",
       "      <td>It's not what happens to you  but how you reac...</td>\n",
       "    </tr>\n",
       "    <tr>\n",
       "      <th>13</th>\n",
       "      <td>Jim Rohn</td>\n",
       "      <td>Beware of what you become  in pursuit of what ...</td>\n",
       "    </tr>\n",
       "    <tr>\n",
       "      <th>14</th>\n",
       "      <td>Frank Sinatra</td>\n",
       "      <td>The best revenge  is massive success.</td>\n",
       "    </tr>\n",
       "    <tr>\n",
       "      <th>15</th>\n",
       "      <td>Elbert Hubbard</td>\n",
       "      <td>Do not take life too seriously You will never ...</td>\n",
       "    </tr>\n",
       "    <tr>\n",
       "      <th>16</th>\n",
       "      <td>Robert Loius Stevenson</td>\n",
       "      <td>Don't judge each day by the harvest you reap  ...</td>\n",
       "    </tr>\n",
       "    <tr>\n",
       "      <th>17</th>\n",
       "      <td>Zig Ziglar</td>\n",
       "      <td>Your attitude and not your aptitude  will dete...</td>\n",
       "    </tr>\n",
       "    <tr>\n",
       "      <th>18</th>\n",
       "      <td>Albert Einstein</td>\n",
       "      <td>Imagination is more important  than knowledge.</td>\n",
       "    </tr>\n",
       "  </tbody>\n",
       "</table>\n",
       "</div>"
      ],
      "text/plain": [
       "                    Author                                              Quote\n",
       "0               Confucious  I hear and i forget. I see and i remember. I d...\n",
       "1      William Arthur Ward  Feeling gratitude and not expressing it is lik...\n",
       "2               Confucious  Our greatest glory is not in never falling but...\n",
       "3               Mark Twain     The secret of getting aheadis getting started.\n",
       "4       Theodore Roosevelt        Believe you can   and you're halfway there.\n",
       "5           Nelson Mandela  Resentment is like drinking Poison and  waitin...\n",
       "6                Confucius      Silence is a true friend   who never betrays.\n",
       "7           Mahatma Gandhi  The best way to find yourself is to   lose you...\n",
       "8   Martin Luther King Jnr     Never succumb to the temptation of bitterness.\n",
       "9                  Lao Tzu  The journey of a thousand miles  begins with o...\n",
       "10          Mahatma Gandhi  It is health that is real wealth and  not piec...\n",
       "11        Lyndon B Johnson  Yesterday is not ours to recover  but tomorrow...\n",
       "12               Epictetus  It's not what happens to you  but how you reac...\n",
       "13                Jim Rohn  Beware of what you become  in pursuit of what ...\n",
       "14           Frank Sinatra              The best revenge  is massive success.\n",
       "15          Elbert Hubbard  Do not take life too seriously You will never ...\n",
       "16  Robert Loius Stevenson  Don't judge each day by the harvest you reap  ...\n",
       "17              Zig Ziglar  Your attitude and not your aptitude  will dete...\n",
       "18         Albert Einstein     Imagination is more important  than knowledge."
      ]
     },
     "execution_count": 61,
     "metadata": {},
     "output_type": "execute_result"
    }
   ],
   "source": [
    "df"
   ]
  },
  {
   "cell_type": "code",
   "execution_count": null,
   "id": "d81de2d5",
   "metadata": {},
   "outputs": [],
   "source": []
  },
  {
   "cell_type": "code",
   "execution_count": 62,
   "id": "1fd21b2c",
   "metadata": {},
   "outputs": [],
   "source": [
    "try:\n",
    "    df.to_csv(\"quotes.csv\", index=False)\n",
    "except Exception as e:\n",
    "    print(e)"
   ]
  },
  {
   "cell_type": "code",
   "execution_count": null,
   "id": "2f6e77cd",
   "metadata": {},
   "outputs": [],
   "source": []
  },
  {
   "cell_type": "markdown",
   "id": "b717784f",
   "metadata": {},
   "source": [
    "**Export to text file**"
   ]
  },
  {
   "cell_type": "code",
   "execution_count": 65,
   "id": "cf92b044",
   "metadata": {},
   "outputs": [],
   "source": [
    "with open(\"quotes.txt\", \"w\") as f:\n",
    "    for i in range(len(authors)):\n",
    "        f.write(authors[i] + \" , \"+ wisdom_proverbs[i] + \"\\n\")"
   ]
  },
  {
   "cell_type": "code",
   "execution_count": null,
   "id": "fe731bed",
   "metadata": {},
   "outputs": [],
   "source": []
  },
  {
   "cell_type": "code",
   "execution_count": null,
   "id": "0a04eb73",
   "metadata": {},
   "outputs": [],
   "source": []
  },
  {
   "cell_type": "code",
   "execution_count": null,
   "id": "adac0faf",
   "metadata": {},
   "outputs": [],
   "source": []
  }
 ],
 "metadata": {
  "kernelspec": {
   "display_name": "Python 3",
   "language": "python",
   "name": "python3"
  },
  "language_info": {
   "codemirror_mode": {
    "name": "ipython",
    "version": 3
   },
   "file_extension": ".py",
   "mimetype": "text/x-python",
   "name": "python",
   "nbconvert_exporter": "python",
   "pygments_lexer": "ipython3",
   "version": "3.8.8"
  }
 },
 "nbformat": 4,
 "nbformat_minor": 5
}
