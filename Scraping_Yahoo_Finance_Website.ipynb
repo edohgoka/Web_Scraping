{
 "cells": [
  {
   "cell_type": "code",
   "execution_count": 1,
   "id": "c83a402f",
   "metadata": {},
   "outputs": [],
   "source": [
    "import requests\n",
    "from bs4 import BeautifulSoup"
   ]
  },
  {
   "cell_type": "code",
   "execution_count": 5,
   "id": "389c9b74",
   "metadata": {},
   "outputs": [],
   "source": [
    "URL='https://finance.yahoo.com/quote/%5EGSPC?p=%5EGSPC'"
   ]
  },
  {
   "cell_type": "code",
   "execution_count": 4,
   "id": "fa21e673",
   "metadata": {},
   "outputs": [],
   "source": [
    "def parseprice(url):\n",
    "    req = requests.get(url)\n",
    "    \n",
    "    soup = BeautifulSoup(req.text, \"lxml\")\n",
    "    \n",
    "    price = soup.find(\"div\", {\"class\": \"D(ib) Mend(20px)\"}).findAll(\"span\")\n",
    "    \n",
    "    return price[0].text"
   ]
  },
  {
   "cell_type": "code",
   "execution_count": null,
   "id": "e3713217",
   "metadata": {},
   "outputs": [],
   "source": []
  },
  {
   "cell_type": "code",
   "execution_count": null,
   "id": "41ff378d",
   "metadata": {},
   "outputs": [],
   "source": [
    "## To print the update each second\n",
    "while True:\n",
    "    print(\"The current price is: \" + str(parseprice(URL)))"
   ]
  },
  {
   "cell_type": "code",
   "execution_count": 7,
   "id": "b2174300",
   "metadata": {},
   "outputs": [
    {
     "name": "stdout",
     "output_type": "stream",
     "text": [
      "The current price is: 4,395.26\n"
     ]
    }
   ],
   "source": [
    "print(\"The current price is: \" + str(parseprice(URL)))"
   ]
  },
  {
   "cell_type": "code",
   "execution_count": 19,
   "id": "7906c739",
   "metadata": {},
   "outputs": [],
   "source": [
    "text = \"The current price is: \" + str(parseprice(URL)) + \".\""
   ]
  },
  {
   "cell_type": "code",
   "execution_count": 20,
   "id": "f5c25302",
   "metadata": {},
   "outputs": [
    {
     "data": {
      "text/plain": [
       "'The current price is: 4,395.26.'"
      ]
     },
     "execution_count": 20,
     "metadata": {},
     "output_type": "execute_result"
    }
   ],
   "source": [
    "text"
   ]
  },
  {
   "cell_type": "code",
   "execution_count": 26,
   "id": "cbf90016",
   "metadata": {},
   "outputs": [
    {
     "data": {
      "text/plain": [
       "4395.26"
      ]
     },
     "execution_count": 26,
     "metadata": {},
     "output_type": "execute_result"
    }
   ],
   "source": [
    "price = float(parseprice(URL).replace(\",\", \"\"))\n",
    "price"
   ]
  },
  {
   "cell_type": "code",
   "execution_count": 27,
   "id": "c8d16534",
   "metadata": {},
   "outputs": [
    {
     "data": {
      "text/plain": [
       "float"
      ]
     },
     "execution_count": 27,
     "metadata": {},
     "output_type": "execute_result"
    }
   ],
   "source": [
    "type(price)"
   ]
  },
  {
   "cell_type": "markdown",
   "id": "b93387e5",
   "metadata": {},
   "source": [
    "**Export to CSV file**"
   ]
  },
  {
   "cell_type": "code",
   "execution_count": 8,
   "id": "e5f27d6f",
   "metadata": {},
   "outputs": [],
   "source": [
    "import csv"
   ]
  },
  {
   "cell_type": "code",
   "execution_count": 30,
   "id": "351169da",
   "metadata": {},
   "outputs": [],
   "source": [
    "with open(\"SP500.csv\", \"w\") as f:\n",
    "    csv_writer = csv.writer(f)\n",
    "    # first write the columns names \n",
    "    csv_writer.writerow([\"SP500\"])\n",
    "    # Now add the price \n",
    "    csv_writer.writerow([price])"
   ]
  },
  {
   "cell_type": "code",
   "execution_count": null,
   "id": "6e7acab4",
   "metadata": {},
   "outputs": [],
   "source": []
  }
 ],
 "metadata": {
  "kernelspec": {
   "display_name": "Python 3",
   "language": "python",
   "name": "python3"
  },
  "language_info": {
   "codemirror_mode": {
    "name": "ipython",
    "version": 3
   },
   "file_extension": ".py",
   "mimetype": "text/x-python",
   "name": "python",
   "nbconvert_exporter": "python",
   "pygments_lexer": "ipython3",
   "version": "3.8.8"
  }
 },
 "nbformat": 4,
 "nbformat_minor": 5
}
