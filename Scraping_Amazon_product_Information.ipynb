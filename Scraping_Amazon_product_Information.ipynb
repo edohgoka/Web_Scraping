{
 "cells": [
  {
   "cell_type": "code",
   "execution_count": 1,
   "id": "c3628672",
   "metadata": {},
   "outputs": [],
   "source": [
    "from bs4 import BeautifulSoup\n",
    "import requests\n",
    "import re"
   ]
  },
  {
   "cell_type": "code",
   "execution_count": 2,
   "id": "c55532d2",
   "metadata": {},
   "outputs": [],
   "source": [
    "url = \"https://www.amazon.fr/Apple-MacBook-avec-13-Pouces-256-Go/dp/B08N5VJZHW?ref_=Oct_s9_apbd_otopr_hd_bw_bT5jAl&pf_rd_r=DXY5FY5BG31FYQ5F3ZGR&pf_rd_p=26e87a32-56ce-58b2-ae7e-c18966c9ef38&pf_rd_s=merchandised-search-10&pf_rd_t=BROWSE&pf_rd_i=429879031\""
   ]
  },
  {
   "cell_type": "code",
   "execution_count": 3,
   "id": "32215313",
   "metadata": {},
   "outputs": [],
   "source": [
    "HEADERS = {\n",
    "    \"User-Agent\": \"Mozilla/5.0 (Windows NT 10.0; Win64; x64) AppleWebKit/537.36 (KHTML, like Gecko) Chrome/92.0.4515.131 Safari/537.36\"\n",
    "}"
   ]
  },
  {
   "cell_type": "code",
   "execution_count": null,
   "id": "29c38b80",
   "metadata": {},
   "outputs": [],
   "source": []
  },
  {
   "cell_type": "code",
   "execution_count": 6,
   "id": "80d8df15",
   "metadata": {},
   "outputs": [],
   "source": [
    "def getPrice():\n",
    "    page = requests.get(url, headers = HEADERS)\n",
    "    soup = BeautifulSoup(page.content, \"lxml\")\n",
    "    title = soup.find(id=\"title\").get_text().strip()\n",
    "    print(title)\n",
    "    \n",
    "    # to get the price of the product\n",
    "    try:\n",
    "        price = soup.find(id='price_inside_buybox').get_text().replace('.', '').replace('€', '').replace(',', '.').replace(' ', '').strip()\n",
    "        price = float(re.sub(r'(\\d)\\s+(\\d)', r'\\1\\2', price))\n",
    "    except:\n",
    "        price = ''\n",
    "        \n",
    "    print(price)\n",
    "    "
   ]
  },
  {
   "cell_type": "code",
   "execution_count": 7,
   "id": "b7569c7a",
   "metadata": {},
   "outputs": [
    {
     "name": "stdout",
     "output_type": "stream",
     "text": [
      "2020 Apple MacBook Air avec Apple M1 Chip (13 Pouces, 8 Go RAM, 256 Go SSD) - Argent\n",
      "1029.0\n"
     ]
    }
   ],
   "source": [
    "getPrice()"
   ]
  },
  {
   "cell_type": "code",
   "execution_count": 38,
   "id": "f412726b",
   "metadata": {},
   "outputs": [],
   "source": []
  }
 ],
 "metadata": {
  "kernelspec": {
   "display_name": "Python 3",
   "language": "python",
   "name": "python3"
  },
  "language_info": {
   "codemirror_mode": {
    "name": "ipython",
    "version": 3
   },
   "file_extension": ".py",
   "mimetype": "text/x-python",
   "name": "python",
   "nbconvert_exporter": "python",
   "pygments_lexer": "ipython3",
   "version": "3.8.8"
  }
 },
 "nbformat": 4,
 "nbformat_minor": 5
}
